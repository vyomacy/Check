{
  "nbformat": 4,
  "nbformat_minor": 0,
  "metadata": {
    "colab": {
      "name": "Untitled7.ipynb",
      "provenance": [],
      "collapsed_sections": []
    },
    "kernelspec": {
      "name": "python3",
      "display_name": "Python 3"
    }
  },
  "cells": [
    {
      "cell_type": "markdown",
      "metadata": {
        "id": "TjFTkUQu_HRI",
        "colab_type": "text"
      },
      "source": [
        "Problem Statement 1:\n",
        "Write a Python Program to implement your own myreduce() function which works exactly\n",
        "like Python's built-in function reduce()\n",
        "Problem Statement 2:\n",
        "Write a Python program to implement your own myfilter() function which works exactly\n",
        "like Python's built-in function filter()"
      ]
    },
    {
      "cell_type": "code",
      "metadata": {
        "id": "QX8imULo-9Uq",
        "colab_type": "code",
        "colab": {
          "base_uri": "https://localhost:8080/",
          "height": 51
        },
        "outputId": "025c5ae6-53f9-44b9-8803-df17fad6781b"
      },
      "source": [
        "# Reduce will produce a single result\n",
        "def myreduce(anyfunc, sequence):\n",
        "\n",
        " # Get first item in sequence and assign to result\n",
        "  result = sequence[0]\n",
        " # iterate over remaining items in sequence and apply reduction function \n",
        "  for item in sequence[1:]:\n",
        "   result = anyfunc(result, item)\n",
        "\n",
        "  return result\n",
        "\n",
        "\n",
        "# Custom filter function \n",
        "def myfilter(anyfunc, sequence):\n",
        "\n",
        " # Initialize empty list\n",
        " result = []\n",
        " # iterate over sequence of items in sequence and apply filter function\n",
        " for item in sequence:\n",
        "  if anyfunc(item):\n",
        "   result.append(item)\n",
        "\n",
        " # return funal output\n",
        " return result\n",
        "\n",
        "\n",
        "# test myreduce function\n",
        "def sum(x,y): return x + y\n",
        "\n",
        "# test myfilter function\n",
        "def ispositive(x):\n",
        " if (x <= 0): \n",
        "  return False \n",
        " else: \n",
        "  return True\n",
        "\n",
        "\n",
        "print (\"Sum on list [1,2,3] using custom reduce function \"   + str(myreduce(sum, [1,2,3])) )\n",
        "print (\"Filter only positive Integers on list [0,1,-2,3,4,5] using custom filter function\"  + str(myfilter(ispositive, [0,1,-2,3,4,5])))"
      ],
      "execution_count": 1,
      "outputs": [
        {
          "output_type": "stream",
          "text": [
            "Sum on list [1,2,3] using custom reduce function 6\n",
            "Filter only positive Integers on list [0,1,-2,3,4,5] using custom filter function[1, 3, 4, 5]\n"
          ],
          "name": "stdout"
        }
      ]
    },
    {
      "cell_type": "markdown",
      "metadata": {
        "id": "--f0mywU_mCZ",
        "colab_type": "text"
      },
      "source": [
        "Implement List comprehensions to produce the following lists.\n",
        "Write List comprehensions to produce the following Lists\n",
        "['A', 'C', 'A', 'D', 'G', 'I', ’L’, ‘ D’]\n",
        "['x', 'xx', 'xxx', 'xxxx', 'y', 'yy', 'yyy', 'yyyy', 'z', 'zz', 'zzz', 'zzzz']\n",
        "['x', 'y', 'z', 'xx', 'yy', 'zz', 'xx', 'yy', 'zz', 'xxxx', 'yyyy', 'zzzz']\n",
        "[[2], [3], [4], [3], [4], [5], [4], [5], [6]]\n",
        "[[2, 3, 4, 5], [3, 4, 5, 6], [4, 5, 6, 7], [5, 6, 7, 8]]\n",
        "[(1, 1), (2, 1), (3, 1), (1, 2), (2, 2), (3, 2), (1, 3), (2, 3), (3, 3)]"
      ]
    },
    {
      "cell_type": "code",
      "metadata": {
        "id": "x7TA6t4g_mrd",
        "colab_type": "code",
        "colab": {
          "base_uri": "https://localhost:8080/",
          "height": 119
        },
        "outputId": "cb402fbc-4ed7-497e-82dd-1da6fbd38bdf"
      },
      "source": [
        "\n",
        "word = \"ACADGILD\"\n",
        "alphabet_list = [ alphabet for alphabet in word ]\n",
        "print (\"ACADGILD => \" + str(alphabet_list))\n",
        "\n",
        "\n",
        "# Compress above for loop into a single list comprehension using technique [i <Upper for condition> <lower for condition>]\n",
        "input_list = ['x','y','z']\n",
        "result = [ item*num for item in input_list for num in range(1,5)  ]\n",
        "print(\"['x','y','z'] => \" +   str(result))\n",
        "\n",
        "\n",
        "# Compress above for loop into a single list comprehension using technique [i <Upper for condition> <lower for condition>]\n",
        "input_list = ['x','y','z']\n",
        "result = [ item*num for num in range(1,5) for item in input_list  ]\n",
        "print(\"['x','y','z'] => \" +   str(result))\n",
        "\n",
        "\n",
        "input_list = [2,3,4]\n",
        "result = [ [item+num] for item in input_list for num in range(0,3)]\n",
        "print(\"[2,3,4] =>\" +  str(result))\n",
        "\n",
        "\n",
        "input_list = [2,3,4,5]\n",
        "result = [ [item+num for item in input_list] for num in range(0,4)  ]\n",
        "print(\"[2,3,4,5] =>\" +  str(result))\n",
        "\n",
        "input_list=[1,2,3]\n",
        "result = [ (b,a) for a in input_list for b in input_list]\n",
        "print(\"[1,2,3] =>\" +  str(result))\n"
      ],
      "execution_count": 10,
      "outputs": [
        {
          "output_type": "stream",
          "text": [
            "ACADGILD => ['A', 'C', 'A', 'D', 'G', 'I', 'L', 'D']\n",
            "['x','y','z'] => ['x', 'xx', 'xxx', 'xxxx', 'y', 'yy', 'yyy', 'yyyy', 'z', 'zz', 'zzz', 'zzzz']\n",
            "['x','y','z'] => ['x', 'y', 'z', 'xx', 'yy', 'zz', 'xxx', 'yyy', 'zzz', 'xxxx', 'yyyy', 'zzzz']\n",
            "[2,3,4] =>[[2], [3], [4], [3], [4], [5], [4], [5], [6]]\n",
            "[2,3,4,5] =>[[2, 3, 4, 5], [3, 4, 5, 6], [4, 5, 6, 7], [5, 6, 7, 8]]\n",
            "[1,2,3] =>[(1, 1), (2, 1), (3, 1), (1, 2), (2, 2), (3, 2), (1, 3), (2, 3), (3, 3)]\n"
          ],
          "name": "stdout"
        }
      ]
    },
    {
      "cell_type": "markdown",
      "metadata": {
        "id": "IkQVHlQHGN0y",
        "colab_type": "text"
      },
      "source": [
        "Implement a function longestWord() that takes a list of words and returns the longest one"
      ]
    },
    {
      "cell_type": "code",
      "metadata": {
        "id": "TWDbKy0WGOeE",
        "colab_type": "code",
        "colab": {
          "base_uri": "https://localhost:8080/",
          "height": 51
        },
        "outputId": "0bbad1f5-00ee-46c2-9c72-8886b8cb9e40"
      },
      "source": [
        "def longestWord(sequence):\n",
        "  max1=len(sequence[0])\n",
        "  temp=sequence[0]\n",
        "  for item in sequence:\n",
        "    if (len(item) > max1):\n",
        "      max1=len(item)\n",
        "      temp=item\n",
        "  print(\"The word with the longest length is:\" + temp)\n",
        "  return temp\n",
        "  \n",
        "print (\"Longest Word in a List is \"   + longestWord([\"Austria\",\"Denmarky\",\"Swis\",\"Mangalorey\"])) "
      ],
      "execution_count": 17,
      "outputs": [
        {
          "output_type": "stream",
          "text": [
            "The word with the longest length is:Mangalorey\n",
            "Longest Word in a List is Mangalorey\n"
          ],
          "name": "stdout"
        }
      ]
    },
    {
      "cell_type": "markdown",
      "metadata": {
        "id": "KL9FXT1tPPYR",
        "colab_type": "text"
      },
      "source": [
        "Write a function filter_long_words() that takes a list of words and an integer n and returns the list\n",
        "of words that are longer than n.\n"
      ]
    },
    {
      "cell_type": "code",
      "metadata": {
        "id": "HWVr8lY-PQd5",
        "colab_type": "code",
        "colab": {
          "base_uri": "https://localhost:8080/",
          "height": 51
        },
        "outputId": "d297edd1-e4b9-4570-8681-df709b38cafc"
      },
      "source": [
        "def filter_long_words(n,sequence):\n",
        "  temp=[]\n",
        "  for item in sequence:\n",
        "    if (len(item) > n ):\n",
        "      temp.append(item)\n",
        "  return temp\n",
        "  \n",
        "Word_length= int(input(\"Enter the no of Words :\"))\n",
        "Longest_Word=filter_long_words(Word_length,[\"ttr\",\"wweeww\",\"Denmarkt\"])\n",
        "print(\"The list of words that are longer than n is {}\".format(Longest_Word))"
      ],
      "execution_count": 25,
      "outputs": [
        {
          "output_type": "stream",
          "text": [
            "Enter the no of Words :6\n",
            "The list of words that are longer than n is ['Denmarkt']\n"
          ],
          "name": "stdout"
        }
      ]
    },
    {
      "cell_type": "markdown",
      "metadata": {
        "id": "TlYEIpYSVy6l",
        "colab_type": "text"
      },
      "source": [
        "Write a Python program using function concept that maps list of words into a list of integers\n",
        "representing the lengths of the corresponding words.\n",
        "Hint: If a list [ ab,cde,erty] is passed on to the python function output should come as [2,3,4]\n",
        "Here 2,3 and 4 are the lengths of the words in the list."
      ]
    },
    {
      "cell_type": "code",
      "metadata": {
        "id": "86i2zz6TVzsa",
        "colab_type": "code",
        "colab": {
          "base_uri": "https://localhost:8080/",
          "height": 34
        },
        "outputId": "76497ff8-eaa6-4f6a-ceaf-c742101cae59"
      },
      "source": [
        "def count_words(sequence):\n",
        "  temp=[]\n",
        "  for item in sequence:\n",
        "    temp.append(len(item))\n",
        "  return temp\n",
        "  \n",
        "Count_Word=count_words([\"ab\",\"cde\",\"erty\"])\n",
        "print(\"The length of words in List is {}\".format(Count_Word))"
      ],
      "execution_count": 27,
      "outputs": [
        {
          "output_type": "stream",
          "text": [
            "The length of words in List is [2, 3, 4]\n"
          ],
          "name": "stdout"
        }
      ]
    },
    {
      "cell_type": "markdown",
      "metadata": {
        "id": "XaFPdJgYc2Wb",
        "colab_type": "text"
      },
      "source": [
        "Write a Python function which takes a character (i.e. a string of length 1) and returns True if it is\n",
        "a vowel, False otherwise"
      ]
    },
    {
      "cell_type": "code",
      "metadata": {
        "id": "6VZcUaA4c36z",
        "colab_type": "code",
        "colab": {
          "base_uri": "https://localhost:8080/",
          "height": 51
        },
        "outputId": "f71a909d-3f7f-458a-c08f-486a82e381ae"
      },
      "source": [
        "def check_vowel(Str):\n",
        "  temp=[\"a\",\"e\",\"i\",\"o\",\"u\",\"A\",\"E\",\"I\",\"O\",\"U\"]\n",
        "  for item in temp:\n",
        "    if (item == Str):\n",
        "      return True\n",
        "    else:\n",
        "      return False\n",
        "  \n",
        "Input_Word=input(\"Please enter a Character :\")\n",
        "check_vowel(Input_Word)"
      ],
      "execution_count": 29,
      "outputs": [
        {
          "output_type": "stream",
          "text": [
            "Please enter a Character :a\n"
          ],
          "name": "stdout"
        },
        {
          "output_type": "execute_result",
          "data": {
            "text/plain": [
              "True"
            ]
          },
          "metadata": {
            "tags": []
          },
          "execution_count": 29
        }
      ]
    },
    {
      "cell_type": "markdown",
      "metadata": {
        "id": "LIa0hrhFdFaC",
        "colab_type": "text"
      },
      "source": [
        "Write a Python Program(with class concepts) to find the area of the triangle using the below\n",
        "formula.\n",
        "area = (s*(s-a)*(s-b)*(s-c)) ** 0.5\n",
        "Function to take the length of the sides of triangle from user should be defined in the parent\n",
        "class and function to calculate the area should be defined in subclass.\n",
        "\n"
      ]
    },
    {
      "cell_type": "code",
      "metadata": {
        "id": "a4pykm56dG0A",
        "colab_type": "code",
        "colab": {
          "base_uri": "https://localhost:8080/",
          "height": 85
        },
        "outputId": "fe7790a9-2ef2-4854-b7dc-12024ee42cf2"
      },
      "source": [
        "class Triangle:\n",
        " \n",
        "    def __init__(self,a,b,c):\n",
        "        self.a = float(a)\n",
        "        self.b = float(b)\n",
        "        self.c = float(c)\n",
        " \n",
        "    def area(self):\n",
        "        s=(self.a + self.b + self.c)/2\n",
        "        return((s*(s-self.a)*(s-self.b)*(s-self.c))**0.5)\n",
        " \n",
        "a=input(\"Enter the value of a = \")\n",
        "b=input(\"Enter the value of b = \")\n",
        "c=input(\"Enter the value of c = \")\n",
        "t = Triangle(a, b, c)\n",
        "print(\"area : {}\".format(t.area()))"
      ],
      "execution_count": 30,
      "outputs": [
        {
          "output_type": "stream",
          "text": [
            "Enter the value of a = 3\n",
            "Enter the value of b = 4\n",
            "Enter the value of c = 5\n",
            "area : 6.0\n"
          ],
          "name": "stdout"
        }
      ]
    }
  ]
}